{
 "cells": [
  {
   "cell_type": "markdown",
   "metadata": {},
   "source": [
    "# Clases"
   ]
  },
  {
   "cell_type": "code",
   "execution_count": 1,
   "metadata": {},
   "outputs": [],
   "source": [
    "class Nada:\n",
    "    pass"
   ]
  },
  {
   "cell_type": "code",
   "execution_count": 2,
   "metadata": {},
   "outputs": [],
   "source": [
    "una_nada = Nada()"
   ]
  },
  {
   "cell_type": "code",
   "execution_count": 3,
   "metadata": {},
   "outputs": [
    {
     "name": "stdout",
     "output_type": "stream",
     "text": [
      "<__main__.Nada object at 0x10d5e7668>\n",
      "<class '__main__.Nada'>\n"
     ]
    }
   ],
   "source": [
    "print(una_nada)\n",
    "print(type(una_nada))"
   ]
  },
  {
   "cell_type": "code",
   "execution_count": 69,
   "metadata": {},
   "outputs": [],
   "source": [
    "class Auto:\n",
    "    color = 'negro' #Propiedad\n",
    "    placa = ''\n",
    "    __numero_calculo = 1024 #Propiedad privada \n",
    "    def __init__(self,placa): #Constructor\n",
    "        print('estamos inicializando el auto')\n",
    "        self.placa = placa \n",
    "    def __str__(self): #OVERRIDE -> Devuelve un str\n",
    "        return f'Color: {self.color}\\n'+ f'Placa: {self.placa}'\n",
    "    def calcular_impuesto(self,anio): #Metodo publico\n",
    "        total_a_pagar = self._calculo(anio)\n",
    "        print(f'Su impuesto a pagar es: {total_a_pagar}')\n",
    "        return total_a_pagar\n",
    "    #Para hacer privada la funcion se le pone dos gion bajo al inicio\n",
    "    def _calculo(self,anio): \n",
    "        return (anio/2)+self.__numero_calculo"
   ]
  },
  {
   "cell_type": "code",
   "execution_count": 70,
   "metadata": {},
   "outputs": [
    {
     "name": "stdout",
     "output_type": "stream",
     "text": [
      "estamos inicializando el auto\n"
     ]
    }
   ],
   "source": [
    "coche = Auto('LBA-2132')"
   ]
  },
  {
   "cell_type": "code",
   "execution_count": 71,
   "metadata": {},
   "outputs": [
    {
     "name": "stdout",
     "output_type": "stream",
     "text": [
      "negro\n",
      "LBA-2132\n"
     ]
    }
   ],
   "source": [
    "print(coche.color)\n",
    "print(coche.placa)"
   ]
  },
  {
   "cell_type": "code",
   "execution_count": 72,
   "metadata": {},
   "outputs": [
    {
     "name": "stdout",
     "output_type": "stream",
     "text": [
      "Color: negro\n",
      "Placa: LBA-2132\n"
     ]
    }
   ],
   "source": [
    "print(coche)"
   ]
  },
  {
   "cell_type": "code",
   "execution_count": 73,
   "metadata": {},
   "outputs": [
    {
     "name": "stdout",
     "output_type": "stream",
     "text": [
      "Su impuesto a pagar es: 2033.5\n"
     ]
    },
    {
     "data": {
      "text/plain": [
       "2033.5"
      ]
     },
     "execution_count": 73,
     "metadata": {},
     "output_type": "execute_result"
    }
   ],
   "source": [
    "coche.calcular_impuesto(2019)"
   ]
  },
  {
   "cell_type": "code",
   "execution_count": 109,
   "metadata": {},
   "outputs": [],
   "source": [
    "class BMW(Auto): #Herencia\n",
    "    hp_motor = 0\n",
    "    \n",
    "    def __init__(self,placa,hp_motor=5000):\n",
    "        self.hp_motor = hp_motor\n",
    "        super().__init__(placa)\n",
    "        \n",
    "    \n",
    "    def __str__(self):\n",
    "        print(self._calculo(999))\n",
    "        return f'Color: {self.color}\\n'+ f'Placa: {self.placa}\\n'+f'HP_Motor: {self.hp_motor}'"
   ]
  },
  {
   "cell_type": "code",
   "execution_count": 110,
   "metadata": {},
   "outputs": [
    {
     "name": "stdout",
     "output_type": "stream",
     "text": [
      "estamos inicializando el auto\n"
     ]
    }
   ],
   "source": [
    "nuevo_bmw = BMW('PBU-1454')"
   ]
  },
  {
   "cell_type": "code",
   "execution_count": 111,
   "metadata": {},
   "outputs": [
    {
     "name": "stdout",
     "output_type": "stream",
     "text": [
      "1523.5\n",
      "Color: negro\n",
      "Placa: PBU-1454\n",
      "HP_Motor: 5000\n"
     ]
    }
   ],
   "source": [
    "print(nuevo_bmw)"
   ]
  },
  {
   "cell_type": "code",
   "execution_count": 105,
   "metadata": {},
   "outputs": [
    {
     "name": "stdout",
     "output_type": "stream",
     "text": [
      "Su impuesto a pagar es: 2033.5\n"
     ]
    },
    {
     "data": {
      "text/plain": [
       "2033.5"
      ]
     },
     "execution_count": 105,
     "metadata": {},
     "output_type": "execute_result"
    }
   ],
   "source": [
    "nuevo_bmw.calcular_impuesto(2019)"
   ]
  },
  {
   "cell_type": "code",
   "execution_count": null,
   "metadata": {},
   "outputs": [],
   "source": []
  },
  {
   "cell_type": "code",
   "execution_count": null,
   "metadata": {},
   "outputs": [],
   "source": []
  }
 ],
 "metadata": {
  "kernelspec": {
   "display_name": "Python 3",
   "language": "python",
   "name": "python3"
  },
  "language_info": {
   "codemirror_mode": {
    "name": "ipython",
    "version": 3
   },
   "file_extension": ".py",
   "mimetype": "text/x-python",
   "name": "python",
   "nbconvert_exporter": "python",
   "pygments_lexer": "ipython3",
   "version": "3.7.3"
  }
 },
 "nbformat": 4,
 "nbformat_minor": 2
}
