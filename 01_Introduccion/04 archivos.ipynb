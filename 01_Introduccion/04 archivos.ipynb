{
 "cells": [
  {
   "cell_type": "code",
   "execution_count": 13,
   "metadata": {},
   "outputs": [
    {
     "name": "stdout",
     "output_type": "stream",
     "text": [
      "['holi\\n', 'como estoy']\n",
      "<class 'list'>\n",
      "holi\n",
      "\n",
      "como estoy\n"
     ]
    }
   ],
   "source": [
    "try:\n",
    "    path='./08_archivos.txt'\n",
    "    archivo_abierto = open(path)\n",
    "    '''print(archivo_abierto)\n",
    "    print(type(archivo_abierto))\n",
    "    linea_leida_uno = archivo_abierto.readline()\n",
    "    print(linea_leida_uno)\n",
    "    linea_leida_dos = archivo_abierto.readline()\n",
    "    print(linea_leida_dos)'''\n",
    "    lineas_archivo = archivo_abierto.readlines()\n",
    "    print(lineas_archivo)\n",
    "    print(type(lineas_archivo))\n",
    "    for linea in lineas_archivo:\n",
    "        print(linea)\n",
    "    \n",
    "    archivo_abierto.close()\n",
    "    \n",
    "except:\n",
    "    print('error')"
   ]
  },
  {
   "cell_type": "code",
   "execution_count": 25,
   "metadata": {},
   "outputs": [],
   "source": [
    "try:\n",
    "    path='./08_archivos.txt'\n",
    "    archivo_escritura_abierto = open(path,mode='w')\n",
    "    archivo_escritura_abierto.write('buenas noches\\n')\n",
    "    archivo_escritura_abierto.close()\n",
    "    \n",
    "except:\n",
    "    print('error')"
   ]
  },
  {
   "cell_type": "code",
   "execution_count": 23,
   "metadata": {},
   "outputs": [
    {
     "name": "stdout",
     "output_type": "stream",
     "text": [
      "error\n"
     ]
    }
   ],
   "source": [
    "try:\n",
    "    path='./08_archivos.txt'\n",
    "    archivo_escritura_abierto = open(path,mode='a')\n",
    "    #archivo_escritura_abierto.write('buenas tardes\\n')\n",
    "    archivo_escritura_abierto.writelines('holi\\n','quespues\\n')\n",
    "    archivo_escritura_abierto.close()\n",
    "    \n",
    "except:\n",
    "    print('error')"
   ]
  },
  {
   "cell_type": "code",
   "execution_count": null,
   "metadata": {},
   "outputs": [],
   "source": []
  },
  {
   "cell_type": "code",
   "execution_count": null,
   "metadata": {},
   "outputs": [],
   "source": []
  }
 ],
 "metadata": {
  "kernelspec": {
   "display_name": "Python 3",
   "language": "python",
   "name": "python3"
  },
  "language_info": {
   "codemirror_mode": {
    "name": "ipython",
    "version": 3
   },
   "file_extension": ".py",
   "mimetype": "text/x-python",
   "name": "python",
   "nbconvert_exporter": "python",
   "pygments_lexer": "ipython3",
   "version": "3.7.3"
  }
 },
 "nbformat": 4,
 "nbformat_minor": 2
}
